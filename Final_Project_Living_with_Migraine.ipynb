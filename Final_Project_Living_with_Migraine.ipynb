{
  "nbformat": 4,
  "nbformat_minor": 0,
  "metadata": {
    "colab": {
      "name": "Final Project / Living with Migraine",
      "provenance": [],
      "collapsed_sections": [],
      "authorship_tag": "ABX9TyPtRP0sq27Ju6biPOnT4Yib",
      "include_colab_link": true
    },
    "kernelspec": {
      "name": "python3",
      "display_name": "Python 3"
    }
  },
  "cells": [
    {
      "cell_type": "markdown",
      "metadata": {
        "id": "view-in-github",
        "colab_type": "text"
      },
      "source": [
        "<a href=\"https://colab.research.google.com/github/bniki26/hello-world/blob/master/Final_Project_Living_with_Migraine.ipynb\" target=\"_parent\"><img src=\"https://colab.research.google.com/assets/colab-badge.svg\" alt=\"Open In Colab\"/></a>"
      ]
    },
    {
      "cell_type": "code",
      "metadata": {
        "id": "p3ihZowGr6iM",
        "colab_type": "code",
        "outputId": "eee15a95-5915-4bcf-8058-a51a749e47f3",
        "colab": {
          "base_uri": "https://localhost:8080/",
          "height": 51
        }
      },
      "source": [
        "import pandas as pd\n",
        "import numpy as np\n",
        "import matplotlib.pyplot as plt\n",
        "import matplotlib.style as style \n",
        "import matplotlib as mp\n",
        "import altair as alt\n",
        "import seaborn as sns"
      ],
      "execution_count": 2,
      "outputs": [
        {
          "output_type": "stream",
          "text": [
            "/usr/local/lib/python3.6/dist-packages/statsmodels/tools/_testing.py:19: FutureWarning: pandas.util.testing is deprecated. Use the functions in the public API at pandas.testing instead.\n",
            "  import pandas.util.testing as tm\n"
          ],
          "name": "stderr"
        }
      ]
    },
    {
      "cell_type": "code",
      "metadata": {
        "id": "nWQMLMNfsJ6e",
        "colab_type": "code",
        "colab": {}
      },
      "source": [
        "migraine_type = pd.read_csv('https://raw.githubusercontent.com/bniki26/migraine/master/Type_of_Migraine.csv')"
      ],
      "execution_count": 0,
      "outputs": []
    },
    {
      "cell_type": "code",
      "metadata": {
        "id": "GATqOYyKsjjE",
        "colab_type": "code",
        "colab": {
          "base_uri": "https://localhost:8080/",
          "height": 204
        },
        "outputId": "4d9f15b3-ecae-4633-da55-d1e5d92f4a9d"
      },
      "source": [
        "migraine_type.head()"
      ],
      "execution_count": 3,
      "outputs": [
        {
          "output_type": "execute_result",
          "data": {
            "text/html": [
              "<div>\n",
              "<style scoped>\n",
              "    .dataframe tbody tr th:only-of-type {\n",
              "        vertical-align: middle;\n",
              "    }\n",
              "\n",
              "    .dataframe tbody tr th {\n",
              "        vertical-align: top;\n",
              "    }\n",
              "\n",
              "    .dataframe thead th {\n",
              "        text-align: right;\n",
              "    }\n",
              "</style>\n",
              "<table border=\"1\" class=\"dataframe\">\n",
              "  <thead>\n",
              "    <tr style=\"text-align: right;\">\n",
              "      <th></th>\n",
              "      <th>Type of Migraine</th>\n",
              "      <th>Improve Trigger</th>\n",
              "      <th>Impact Percentage</th>\n",
              "      <th>Symptoms</th>\n",
              "      <th>Impact_Percentage</th>\n",
              "    </tr>\n",
              "  </thead>\n",
              "  <tbody>\n",
              "    <tr>\n",
              "      <th>0</th>\n",
              "      <td>Episodic</td>\n",
              "      <td>Modified daily activities</td>\n",
              "      <td>72</td>\n",
              "      <td>Clumsiness</td>\n",
              "      <td>37</td>\n",
              "    </tr>\n",
              "    <tr>\n",
              "      <th>1</th>\n",
              "      <td>Episodic</td>\n",
              "      <td>Modified diet/eating</td>\n",
              "      <td>73</td>\n",
              "      <td>Vertigo</td>\n",
              "      <td>31</td>\n",
              "    </tr>\n",
              "    <tr>\n",
              "      <th>2</th>\n",
              "      <td>Episodic</td>\n",
              "      <td>Avoided certain places</td>\n",
              "      <td>57</td>\n",
              "      <td>Memory loss</td>\n",
              "      <td>16</td>\n",
              "    </tr>\n",
              "    <tr>\n",
              "      <th>3</th>\n",
              "      <td>High-frequency episodic</td>\n",
              "      <td>Modified daily activities</td>\n",
              "      <td>76</td>\n",
              "      <td>Clumsiness</td>\n",
              "      <td>41</td>\n",
              "    </tr>\n",
              "    <tr>\n",
              "      <th>4</th>\n",
              "      <td>High-frequency episodic</td>\n",
              "      <td>Modified diet/eating</td>\n",
              "      <td>77</td>\n",
              "      <td>Vertigo</td>\n",
              "      <td>39</td>\n",
              "    </tr>\n",
              "  </tbody>\n",
              "</table>\n",
              "</div>"
            ],
            "text/plain": [
              "          Type of Migraine  ... Impact_Percentage\n",
              "0                 Episodic  ...                37\n",
              "1                 Episodic  ...                31\n",
              "2                 Episodic  ...                16\n",
              "3  High-frequency episodic  ...                41\n",
              "4  High-frequency episodic  ...                39\n",
              "\n",
              "[5 rows x 5 columns]"
            ]
          },
          "metadata": {
            "tags": []
          },
          "execution_count": 3
        }
      ]
    },
    {
      "cell_type": "code",
      "metadata": {
        "id": "D1S0KB4UsnYy",
        "colab_type": "code",
        "colab": {
          "base_uri": "https://localhost:8080/",
          "height": 408
        },
        "outputId": "74fc06b3-ac2e-419b-ee47-9b133cd724f1"
      },
      "source": [
        "migraine_type.plot(x='Type of Migraine', y='Impact Percentage', kind='bar', legend='Improve Trigger')"
      ],
      "execution_count": 4,
      "outputs": [
        {
          "output_type": "execute_result",
          "data": {
            "text/plain": [
              "<matplotlib.axes._subplots.AxesSubplot at 0x7fc51d358550>"
            ]
          },
          "metadata": {
            "tags": []
          },
          "execution_count": 4
        },
        {
          "output_type": "display_data",
          "data": {
            "image/png": "[encoded data removed]",
            "text/plain": [
              "<Figure size 432x288 with 1 Axes>"
            ]
          },
          "metadata": {
            "tags": [],
            "needs_background": "light"
          }
        }
      ]
    },
    {
      "cell_type": "code",
      "metadata": {
        "id": "F6bNHPkqz3JW",
        "colab_type": "code",
        "colab": {
          "base_uri": "https://localhost:8080/",
          "height": 296
        },
        "outputId": "8dcf1ad1-28c0-4b1c-8a5c-8d5821340285"
      },
      "source": [
        "sns.countplot(y='Type of Migraine', hue='Improve Trigger', data=migraine_type)"
      ],
      "execution_count": 5,
      "outputs": [
        {
          "output_type": "execute_result",
          "data": {
            "text/plain": [
              "<matplotlib.axes._subplots.AxesSubplot at 0x7fc51d25b320>"
            ]
          },
          "metadata": {
            "tags": []
          },
          "execution_count": 5
        },
        {
          "output_type": "display_data",
          "data": {
            "image/png": "[encoded data removed]",
            "text/plain": [
              "<Figure size 432x288 with 1 Axes>"
            ]
          },
          "metadata": {
            "tags": [],
            "needs_background": "light"
          }
        }
      ]
    },
    {
      "cell_type": "code",
      "metadata": {
        "id": "3udutS9QKh6D",
        "colab_type": "code",
        "colab": {
          "base_uri": "https://localhost:8080/",
          "height": 263
        },
        "outputId": "87840845-7853-4ad1-9f10-9e3d79121de2"
      },
      "source": [
        "#bar plot in altair\n",
        "alt.Chart(migraine_type).mark_point().encode(\n",
        "    x='Impact Percentage:Q',\n",
        "    y='Type of Migraine:N',\n",
        "    color='Improve Trigger:N'\n",
        ").properties(\n",
        "    width=200,\n",
        "    height=200\n",
        ")"
      ],
      "execution_count": 6,
      "outputs": [
        {
          "output_type": "execute_result",
          "data": {
            "text/plain": [
              "alt.Chart(...)"
            ],
            "text/html": [
              "\n",
              "<div id=\"altair-viz-5976554cee224ab28391401d717d4b18\"></div>\n",
              "<script type=\"text/javascript\">\n",
              "  (function(spec, embedOpt){\n",
              "    let outputDiv = document.currentScript.previousElementSibling;\n",
              "    if (outputDiv.id !== \"altair-viz-5976554cee224ab28391401d717d4b18\") {\n",
              "      outputDiv = document.getElementById(\"altair-viz-5976554cee224ab28391401d717d4b18\");\n",
              "    }\n",
              "    const paths = {\n",
              "      \"vega\": \"https://cdn.jsdelivr.net/npm//vega@5?noext\",\n",
              "      \"vega-lib\": \"https://cdn.jsdelivr.net/npm//vega-lib?noext\",\n",
              "      \"vega-lite\": \"https://cdn.jsdelivr.net/npm//vega-lite@4.8.1?noext\",\n",
              "      \"vega-embed\": \"https://cdn.jsdelivr.net/npm//vega-embed@6?noext\",\n",
              "    };\n",
              "\n",
              "    function loadScript(lib) {\n",
              "      return new Promise(function(resolve, reject) {\n",
              "        var s = document.createElement('script');\n",
              "        s.src = paths[lib];\n",
              "        s.async = true;\n",
              "        s.onload = () => resolve(paths[lib]);\n",
              "        s.onerror = () => reject(`Error loading script: ${paths[lib]}`);\n",
              "        document.getElementsByTagName(\"head\")[0].appendChild(s);\n",
              "      });\n",
              "    }\n",
              "\n",
              "    function showError(err) {\n",
              "      outputDiv.innerHTML = `<div class=\"error\" style=\"color:red;\">${err}</div>`;\n",
              "      throw err;\n",
              "    }\n",
              "\n",
              "    function displayChart(vegaEmbed) {\n",
              "      vegaEmbed(outputDiv, spec, embedOpt)\n",
              "        .catch(err => showError(`Javascript Error: ${err.message}<br>This usually means there's a typo in your chart specification. See the javascript console for the full traceback.`));\n",
              "    }\n",
              "\n",
              "    if(typeof define === \"function\" && define.amd) {\n",
              "      requirejs.config({paths});\n",
              "      require([\"vega-embed\"], displayChart, err => showError(`Error loading script: ${err.message}`));\n",
              "    } else if (typeof vegaEmbed === \"function\") {\n",
              "      displayChart(vegaEmbed);\n",
              "    } else {\n",
              "      loadScript(\"vega\")\n",
              "        .then(() => loadScript(\"vega-lite\"))\n",
              "        .then(() => loadScript(\"vega-embed\"))\n",
              "        .catch(showError)\n",
              "        .then(() => displayChart(vegaEmbed));\n",
              "    }\n",
              "  })({\"config\": {\"view\": {\"continuousWidth\": 400, \"continuousHeight\": 300}}, \"data\": {\"name\": \"data-d78738b697920ba661f76fc17c27afda\"}, \"mark\": \"point\", \"encoding\": {\"color\": {\"type\": \"nominal\", \"field\": \"Improve Trigger\"}, \"x\": {\"type\": \"quantitative\", \"field\": \"Impact Percentage\"}, \"y\": {\"type\": \"nominal\", \"field\": \"Type of Migraine\"}}, \"height\": 200, \"width\": 200, \"$schema\": \"https://vega.github.io/schema/vega-lite/v4.8.1.json\", \"datasets\": {\"data-d78738b697920ba661f76fc17c27afda\": [{\"Type of Migraine\": \"Episodic\", \"Improve Trigger\": \"Modified daily activities\", \"Impact Percentage\": 72, \"Symptoms\": \"Clumsiness\", \"Impact_Percentage\": 37}, {\"Type of Migraine\": \"Episodic\", \"Improve Trigger\": \"Modified diet/eating\", \"Impact Percentage\": 73, \"Symptoms\": \"Vertigo\", \"Impact_Percentage\": 31}, {\"Type of Migraine\": \"Episodic\", \"Improve Trigger\": \"Avoided certain places\", \"Impact Percentage\": 57, \"Symptoms\": \"Memory loss\", \"Impact_Percentage\": 16}, {\"Type of Migraine\": \"High-frequency episodic\", \"Improve Trigger\": \"Modified daily activities\", \"Impact Percentage\": 76, \"Symptoms\": \"Clumsiness\", \"Impact_Percentage\": 41}, {\"Type of Migraine\": \"High-frequency episodic\", \"Improve Trigger\": \"Modified diet/eating\", \"Impact Percentage\": 77, \"Symptoms\": \"Vertigo\", \"Impact_Percentage\": 39}, {\"Type of Migraine\": \"High-frequency episodic\", \"Improve Trigger\": \"Avoided certain places\", \"Impact Percentage\": 64, \"Symptoms\": \"Memory loss\", \"Impact_Percentage\": 25}, {\"Type of Migraine\": \"Chronic\", \"Improve Trigger\": \"Modified daily activities\", \"Impact Percentage\": 85, \"Symptoms\": \"Clumsiness\", \"Impact_Percentage\": 52}, {\"Type of Migraine\": \"Chronic\", \"Improve Trigger\": \"Modified diet/eating\", \"Impact Percentage\": 80, \"Symptoms\": \"Vertigo\", \"Impact_Percentage\": 25}, {\"Type of Migraine\": \"Chronic\", \"Improve Trigger\": \"Avoided certain places\", \"Impact Percentage\": 74, \"Symptoms\": \"Memory loss\", \"Impact_Percentage\": 36}]}}, {\"mode\": \"vega-lite\"});\n",
              "</script>"
            ]
          },
          "metadata": {
            "tags": []
          },
          "execution_count": 6
        }
      ]
    },
    {
      "cell_type": "code",
      "metadata": {
        "id": "eStwgOtrL3JV",
        "colab_type": "code",
        "colab": {
          "base_uri": "https://localhost:8080/",
          "height": 263
        },
        "outputId": "53908e29-67c5-4e0a-8dcd-28d7182c03e8"
      },
      "source": [
        "#bar plot in altair\n",
        "alt.Chart(migraine_type).mark_bar().encode(\n",
        "    x='Impact_Percentage:Q',\n",
        "    y='Type of Migraine:N',\n",
        "    color='Symptoms:N'\n",
        ").properties(\n",
        "    width=400,\n",
        "    height=200\n",
        ")"
      ],
      "execution_count": 7,
      "outputs": [
        {
          "output_type": "execute_result",
          "data": {
            "text/plain": [
              "alt.Chart(...)"
            ],
            "text/html": [
              "\n",
              "<div id=\"altair-viz-6dddbb3a189b47c9b1614aa0596364f4\"></div>\n",
              "<script type=\"text/javascript\">\n",
              "  (function(spec, embedOpt){\n",
              "    let outputDiv = document.currentScript.previousElementSibling;\n",
              "    if (outputDiv.id !== \"altair-viz-6dddbb3a189b47c9b1614aa0596364f4\") {\n",
              "      outputDiv = document.getElementById(\"altair-viz-6dddbb3a189b47c9b1614aa0596364f4\");\n",
              "    }\n",
              "    const paths = {\n",
              "      \"vega\": \"https://cdn.jsdelivr.net/npm//vega@5?noext\",\n",
              "      \"vega-lib\": \"https://cdn.jsdelivr.net/npm//vega-lib?noext\",\n",
              "      \"vega-lite\": \"https://cdn.jsdelivr.net/npm//vega-lite@4.8.1?noext\",\n",
              "      \"vega-embed\": \"https://cdn.jsdelivr.net/npm//vega-embed@6?noext\",\n",
              "    };\n",
              "\n",
              "    function loadScript(lib) {\n",
              "      return new Promise(function(resolve, reject) {\n",
              "        var s = document.createElement('script');\n",
              "        s.src = paths[lib];\n",
              "        s.async = true;\n",
              "        s.onload = () => resolve(paths[lib]);\n",
              "        s.onerror = () => reject(`Error loading script: ${paths[lib]}`);\n",
              "        document.getElementsByTagName(\"head\")[0].appendChild(s);\n",
              "      });\n",
              "    }\n",
              "\n",
              "    function showError(err) {\n",
              "      outputDiv.innerHTML = `<div class=\"error\" style=\"color:red;\">${err}</div>`;\n",
              "      throw err;\n",
              "    }\n",
              "\n",
              "    function displayChart(vegaEmbed) {\n",
              "      vegaEmbed(outputDiv, spec, embedOpt)\n",
              "        .catch(err => showError(`Javascript Error: ${err.message}<br>This usually means there's a typo in your chart specification. See the javascript console for the full traceback.`));\n",
              "    }\n",
              "\n",
              "    if(typeof define === \"function\" && define.amd) {\n",
              "      requirejs.config({paths});\n",
              "      require([\"vega-embed\"], displayChart, err => showError(`Error loading script: ${err.message}`));\n",
              "    } else if (typeof vegaEmbed === \"function\") {\n",
              "      displayChart(vegaEmbed);\n",
              "    } else {\n",
              "      loadScript(\"vega\")\n",
              "        .then(() => loadScript(\"vega-lite\"))\n",
              "        .then(() => loadScript(\"vega-embed\"))\n",
              "        .catch(showError)\n",
              "        .then(() => displayChart(vegaEmbed));\n",
              "    }\n",
              "  })({\"config\": {\"view\": {\"continuousWidth\": 400, \"continuousHeight\": 300}}, \"data\": {\"name\": \"data-d78738b697920ba661f76fc17c27afda\"}, \"mark\": \"bar\", \"encoding\": {\"color\": {\"type\": \"nominal\", \"field\": \"Symptoms\"}, \"x\": {\"type\": \"quantitative\", \"field\": \"Impact_Percentage\"}, \"y\": {\"type\": \"nominal\", \"field\": \"Type of Migraine\"}}, \"height\": 200, \"width\": 400, \"$schema\": \"https://vega.github.io/schema/vega-lite/v4.8.1.json\", \"datasets\": {\"data-d78738b697920ba661f76fc17c27afda\": [{\"Type of Migraine\": \"Episodic\", \"Improve Trigger\": \"Modified daily activities\", \"Impact Percentage\": 72, \"Symptoms\": \"Clumsiness\", \"Impact_Percentage\": 37}, {\"Type of Migraine\": \"Episodic\", \"Improve Trigger\": \"Modified diet/eating\", \"Impact Percentage\": 73, \"Symptoms\": \"Vertigo\", \"Impact_Percentage\": 31}, {\"Type of Migraine\": \"Episodic\", \"Improve Trigger\": \"Avoided certain places\", \"Impact Percentage\": 57, \"Symptoms\": \"Memory loss\", \"Impact_Percentage\": 16}, {\"Type of Migraine\": \"High-frequency episodic\", \"Improve Trigger\": \"Modified daily activities\", \"Impact Percentage\": 76, \"Symptoms\": \"Clumsiness\", \"Impact_Percentage\": 41}, {\"Type of Migraine\": \"High-frequency episodic\", \"Improve Trigger\": \"Modified diet/eating\", \"Impact Percentage\": 77, \"Symptoms\": \"Vertigo\", \"Impact_Percentage\": 39}, {\"Type of Migraine\": \"High-frequency episodic\", \"Improve Trigger\": \"Avoided certain places\", \"Impact Percentage\": 64, \"Symptoms\": \"Memory loss\", \"Impact_Percentage\": 25}, {\"Type of Migraine\": \"Chronic\", \"Improve Trigger\": \"Modified daily activities\", \"Impact Percentage\": 85, \"Symptoms\": \"Clumsiness\", \"Impact_Percentage\": 52}, {\"Type of Migraine\": \"Chronic\", \"Improve Trigger\": \"Modified diet/eating\", \"Impact Percentage\": 80, \"Symptoms\": \"Vertigo\", \"Impact_Percentage\": 25}, {\"Type of Migraine\": \"Chronic\", \"Improve Trigger\": \"Avoided certain places\", \"Impact Percentage\": 74, \"Symptoms\": \"Memory loss\", \"Impact_Percentage\": 36}]}}, {\"mode\": \"vega-lite\"});\n",
              "</script>"
            ]
          },
          "metadata": {
            "tags": []
          },
          "execution_count": 7
        }
      ]
    },
    {
      "cell_type": "code",
      "metadata": {
        "id": "g2qeucl6Sedc",
        "colab_type": "code",
        "colab": {
          "base_uri": "https://localhost:8080/",
          "height": 34
        },
        "outputId": "2abb7a70-df5c-49b0-9ad6-5a06f66f9e67"
      },
      "source": [
        "np.issubdtype(migraine_type['Impact Percentage'].dtype, np.number)"
      ],
      "execution_count": 10,
      "outputs": [
        {
          "output_type": "execute_result",
          "data": {
            "text/plain": [
              "True"
            ]
          },
          "metadata": {
            "tags": []
          },
          "execution_count": 10
        }
      ]
    },
    {
      "cell_type": "code",
      "metadata": {
        "id": "guz2nx3tWmv_",
        "colab_type": "code",
        "colab": {}
      },
      "source": [
        "#import new data\n",
        "symptoms = pd.read_csv ('https://raw.githubusercontent.com/bniki26/migraine/07df686e10901bc4e3c03d9cdbc47fceca25afa4/Symptoms.csv')"
      ],
      "execution_count": 0,
      "outputs": []
    },
    {
      "cell_type": "code",
      "metadata": {
        "id": "OV5l7MVQjbjD",
        "colab_type": "code",
        "colab": {
          "base_uri": "https://localhost:8080/",
          "height": 204
        },
        "outputId": "b72594a1-1e4b-4753-c3eb-9b2f0d09475e"
      },
      "source": [
        "symptoms.head()"
      ],
      "execution_count": 12,
      "outputs": [
        {
          "output_type": "execute_result",
          "data": {
            "text/html": [
              "<div>\n",
              "<style scoped>\n",
              "    .dataframe tbody tr th:only-of-type {\n",
              "        vertical-align: middle;\n",
              "    }\n",
              "\n",
              "    .dataframe tbody tr th {\n",
              "        vertical-align: top;\n",
              "    }\n",
              "\n",
              "    .dataframe thead th {\n",
              "        text-align: right;\n",
              "    }\n",
              "</style>\n",
              "<table border=\"1\" class=\"dataframe\">\n",
              "  <thead>\n",
              "    <tr style=\"text-align: right;\">\n",
              "      <th></th>\n",
              "      <th>Symptoms</th>\n",
              "      <th>Share of respondents</th>\n",
              "    </tr>\n",
              "  </thead>\n",
              "  <tbody>\n",
              "    <tr>\n",
              "      <th>0</th>\n",
              "      <td>Head pain</td>\n",
              "      <td>98</td>\n",
              "    </tr>\n",
              "    <tr>\n",
              "      <th>1</th>\n",
              "      <td>Throbbing pain</td>\n",
              "      <td>94</td>\n",
              "    </tr>\n",
              "    <tr>\n",
              "      <th>2</th>\n",
              "      <td>Sensitivity to light</td>\n",
              "      <td>91</td>\n",
              "    </tr>\n",
              "    <tr>\n",
              "      <th>3</th>\n",
              "      <td>Fatigue</td>\n",
              "      <td>86</td>\n",
              "    </tr>\n",
              "    <tr>\n",
              "      <th>4</th>\n",
              "      <td>Sensitivity to sound</td>\n",
              "      <td>85</td>\n",
              "    </tr>\n",
              "  </tbody>\n",
              "</table>\n",
              "</div>"
            ],
            "text/plain": [
              "               Symptoms  Share of respondents\n",
              "0             Head pain                    98\n",
              "1        Throbbing pain                    94\n",
              "2  Sensitivity to light                    91\n",
              "3               Fatigue                    86\n",
              "4  Sensitivity to sound                    85"
            ]
          },
          "metadata": {
            "tags": []
          },
          "execution_count": 12
        }
      ]
    },
    {
      "cell_type": "code",
      "metadata": {
        "id": "ekoktY9Ojer0",
        "colab_type": "code",
        "colab": {
          "base_uri": "https://localhost:8080/",
          "height": 663
        },
        "outputId": "c2824477-4ca8-472a-f1d0-d46268a67444"
      },
      "source": [
        "#barplot for migraine symptoms\n",
        "data = pd.DataFrame({'y':['Head pain', 'Throbbing pain', 'Sensitivity to light', 'Fatigue', 'Sensitivity to sound','Brain fog, inability to focus','Nausea',\n",
        "                           'Visual effects and/or aura', 'Dizziness/ light-headedness', 'Body or neck aches', 'Numbness or tingling in the hands, arms, feet, legs or face']})\n",
        "alt.Chart(symptoms).mark_bar().encode(\n",
        "    x='Share of respondents:Q',\n",
        "    y='Symptoms:N',\n",
        ").properties(\n",
        "    width=400,\n",
        "    height=600\n",
        ")"
      ],
      "execution_count": 13,
      "outputs": [
        {
          "output_type": "execute_result",
          "data": {
            "text/plain": [
              "alt.Chart(...)"
            ],
            "text/html": [
              "\n",
              "<div id=\"altair-viz-7f2c8a9a22414175a66ae4fbe04e30db\"></div>\n",
              "<script type=\"text/javascript\">\n",
              "  (function(spec, embedOpt){\n",
              "    let outputDiv = document.currentScript.previousElementSibling;\n",
              "    if (outputDiv.id !== \"altair-viz-7f2c8a9a22414175a66ae4fbe04e30db\") {\n",
              "      outputDiv = document.getElementById(\"altair-viz-7f2c8a9a22414175a66ae4fbe04e30db\");\n",
              "    }\n",
              "    const paths = {\n",
              "      \"vega\": \"https://cdn.jsdelivr.net/npm//vega@5?noext\",\n",
              "      \"vega-lib\": \"https://cdn.jsdelivr.net/npm//vega-lib?noext\",\n",
              "      \"vega-lite\": \"https://cdn.jsdelivr.net/npm//vega-lite@4.8.1?noext\",\n",
              "      \"vega-embed\": \"https://cdn.jsdelivr.net/npm//vega-embed@6?noext\",\n",
              "    };\n",
              "\n",
              "    function loadScript(lib) {\n",
              "      return new Promise(function(resolve, reject) {\n",
              "        var s = document.createElement('script');\n",
              "        s.src = paths[lib];\n",
              "        s.async = true;\n",
              "        s.onload = () => resolve(paths[lib]);\n",
              "        s.onerror = () => reject(`Error loading script: ${paths[lib]}`);\n",
              "        document.getElementsByTagName(\"head\")[0].appendChild(s);\n",
              "      });\n",
              "    }\n",
              "\n",
              "    function showError(err) {\n",
              "      outputDiv.innerHTML = `<div class=\"error\" style=\"color:red;\">${err}</div>`;\n",
              "      throw err;\n",
              "    }\n",
              "\n",
              "    function displayChart(vegaEmbed) {\n",
              "      vegaEmbed(outputDiv, spec, embedOpt)\n",
              "        .catch(err => showError(`Javascript Error: ${err.message}<br>This usually means there's a typo in your chart specification. See the javascript console for the full traceback.`));\n",
              "    }\n",
              "\n",
              "    if(typeof define === \"function\" && define.amd) {\n",
              "      requirejs.config({paths});\n",
              "      require([\"vega-embed\"], displayChart, err => showError(`Error loading script: ${err.message}`));\n",
              "    } else if (typeof vegaEmbed === \"function\") {\n",
              "      displayChart(vegaEmbed);\n",
              "    } else {\n",
              "      loadScript(\"vega\")\n",
              "        .then(() => loadScript(\"vega-lite\"))\n",
              "        .then(() => loadScript(\"vega-embed\"))\n",
              "        .catch(showError)\n",
              "        .then(() => displayChart(vegaEmbed));\n",
              "    }\n",
              "  })({\"config\": {\"view\": {\"continuousWidth\": 400, \"continuousHeight\": 300}}, \"data\": {\"name\": \"data-d6b111e08f1cf6d392c5cd91df6c020b\"}, \"mark\": \"bar\", \"encoding\": {\"x\": {\"type\": \"quantitative\", \"field\": \"Share of respondents\"}, \"y\": {\"type\": \"nominal\", \"field\": \"Symptoms\"}}, \"height\": 600, \"width\": 400, \"$schema\": \"https://vega.github.io/schema/vega-lite/v4.8.1.json\", \"datasets\": {\"data-d6b111e08f1cf6d392c5cd91df6c020b\": [{\"Symptoms\": \"Head pain\", \"Share of respondents\": 98}, {\"Symptoms\": \"Throbbing pain\", \"Share of respondents\": 94}, {\"Symptoms\": \"Sensitivity to light\", \"Share of respondents\": 91}, {\"Symptoms\": \"Fatigue\", \"Share of respondents\": 86}, {\"Symptoms\": \"Sensitivity to sound\", \"Share of respondents\": 85}, {\"Symptoms\": \"Brain fog, inability to focus\", \"Share of respondents\": 84}, {\"Symptoms\": \"Nausea\", \"Share of respondents\": 80}, {\"Symptoms\": \"Visual effects and/or aura\", \"Share of respondents\": 79}, {\"Symptoms\": \"Dizziness/ light-headedness\", \"Share of respondents\": 79}, {\"Symptoms\": \"Body or neck aches\", \"Share of respondents\": 78}, {\"Symptoms\": \"Vomiting\", \"Share of respondents\": 49}, {\"Symptoms\": \"Numbness or tingling in the hands, arms, feet, legs or face\", \"Share of respondents\": 45}]}}, {\"mode\": \"vega-lite\"});\n",
              "</script>"
            ]
          },
          "metadata": {
            "tags": []
          },
          "execution_count": 13
        }
      ]
    },
    {
      "cell_type": "code",
      "metadata": {
        "id": "5JNs0VWzmfJe",
        "colab_type": "code",
        "colab": {
          "base_uri": "https://localhost:8080/",
          "height": 296
        },
        "outputId": "35a59d35-dbdd-461e-b4c5-e43ff17af1c0"
      },
      "source": [
        "sns.barplot(x='Impact Percentage', \n",
        "            y='Type of Migraine', \n",
        "            hue='Improve Trigger', data=migraine_type)\n"
      ],
      "execution_count": 9,
      "outputs": [
        {
          "output_type": "execute_result",
          "data": {
            "text/plain": [
              "<matplotlib.axes._subplots.AxesSubplot at 0x7fc51ba0fba8>"
            ]
          },
          "metadata": {
            "tags": []
          },
          "execution_count": 9
        },
        {
          "output_type": "display_data",
          "data": {
            "image/png": "[encoded data removed]",
            "text/plain": [
              "<Figure size 432x288 with 1 Axes>"
            ]
          },
          "metadata": {
            "tags": [],
            "needs_background": "light"
          }
        }
      ]
    },
    {
      "cell_type": "code",
      "metadata": {
        "id": "vtYNhwc0-fG0",
        "colab_type": "code",
        "colab": {}
      },
      "source": [
        "survay = pd.read_csv('https://raw.githubusercontent.com/bniki26/migraine/master/Agreement%3Adisagreement.csv')"
      ],
      "execution_count": 0,
      "outputs": []
    },
    {
      "cell_type": "code",
      "metadata": {
        "id": "FTjTe5--TzG5",
        "colab_type": "code",
        "colab": {
          "base_uri": "https://localhost:8080/",
          "height": 204
        },
        "outputId": "bb9a74da-596e-4ab7-ecfe-8c22c0803e8a"
      },
      "source": [
        "survay.head()"
      ],
      "execution_count": 15,
      "outputs": [
        {
          "output_type": "execute_result",
          "data": {
            "text/html": [
              "<div>\n",
              "<style scoped>\n",
              "    .dataframe tbody tr th:only-of-type {\n",
              "        vertical-align: middle;\n",
              "    }\n",
              "\n",
              "    .dataframe tbody tr th {\n",
              "        vertical-align: top;\n",
              "    }\n",
              "\n",
              "    .dataframe thead th {\n",
              "        text-align: right;\n",
              "    }\n",
              "</style>\n",
              "<table border=\"1\" class=\"dataframe\">\n",
              "  <thead>\n",
              "    <tr style=\"text-align: right;\">\n",
              "      <th></th>\n",
              "      <th>Agreement/disagreement</th>\n",
              "      <th>Sufferers</th>\n",
              "      <th>Percentage</th>\n",
              "    </tr>\n",
              "  </thead>\n",
              "  <tbody>\n",
              "    <tr>\n",
              "      <th>0</th>\n",
              "      <td>Strongly agree</td>\n",
              "      <td>Migraine Sufferers</td>\n",
              "      <td>34</td>\n",
              "    </tr>\n",
              "    <tr>\n",
              "      <th>1</th>\n",
              "      <td>Strongly agree</td>\n",
              "      <td>Non-Sufferers</td>\n",
              "      <td>15</td>\n",
              "    </tr>\n",
              "    <tr>\n",
              "      <th>2</th>\n",
              "      <td>Somewhat agree</td>\n",
              "      <td>Migraine Sufferers</td>\n",
              "      <td>36</td>\n",
              "    </tr>\n",
              "    <tr>\n",
              "      <th>3</th>\n",
              "      <td>Somewhat agree</td>\n",
              "      <td>Non-Sufferers</td>\n",
              "      <td>38</td>\n",
              "    </tr>\n",
              "    <tr>\n",
              "      <th>4</th>\n",
              "      <td>Somewhat disagree</td>\n",
              "      <td>Migraine Sufferers</td>\n",
              "      <td>13</td>\n",
              "    </tr>\n",
              "  </tbody>\n",
              "</table>\n",
              "</div>"
            ],
            "text/plain": [
              "  Agreement/disagreement           Sufferers  Percentage\n",
              "0         Strongly agree  Migraine Sufferers          34\n",
              "1         Strongly agree       Non-Sufferers          15\n",
              "2         Somewhat agree  Migraine Sufferers          36\n",
              "3         Somewhat agree       Non-Sufferers          38\n",
              "4      Somewhat disagree  Migraine Sufferers          13"
            ]
          },
          "metadata": {
            "tags": []
          },
          "execution_count": 15
        }
      ]
    },
    {
      "cell_type": "code",
      "metadata": {
        "id": "MR9e2UrST7mC",
        "colab_type": "code",
        "colab": {
          "base_uri": "https://localhost:8080/",
          "height": 351
        },
        "outputId": "1e7accfb-f1e1-4421-9eef-84d31f9f7242"
      },
      "source": [
        "plt.figure(figsize=(20,5))\n",
        "sns.barplot(x='Agreement/disagreement', \n",
        "            y='Percentage',\n",
        "            hue='Sufferers', data=survay)"
      ],
      "execution_count": 19,
      "outputs": [
        {
          "output_type": "execute_result",
          "data": {
            "text/plain": [
              "<matplotlib.axes._subplots.AxesSubplot at 0x7f2ff2c2a2b0>"
            ]
          },
          "metadata": {
            "tags": []
          },
          "execution_count": 19
        },
        {
          "output_type": "display_data",
          "data": {
            "image/png": "[encoded data removed]",
            "text/plain": [
              "<Figure size 1440x360 with 1 Axes>"
            ]
          },
          "metadata": {
            "tags": [],
            "needs_background": "light"
          }
        }
      ]
    },
    {
      "cell_type": "code",
      "metadata": {
        "id": "1B_fDd85UUdo",
        "colab_type": "code",
        "colab": {}
      },
      "source": [
        "age = pd.read_csv('https://raw.githubusercontent.com/bniki26/migraine/master/Migraines%20by%20age.csv')"
      ],
      "execution_count": 0,
      "outputs": []
    },
    {
      "cell_type": "code",
      "metadata": {
        "id": "2zLN6nweZK_6",
        "colab_type": "code",
        "colab": {
          "base_uri": "https://localhost:8080/",
          "height": 204
        },
        "outputId": "50a4963d-e57b-4eda-d4f9-28648398f8bf"
      },
      "source": [
        "age.head()"
      ],
      "execution_count": 21,
      "outputs": [
        {
          "output_type": "execute_result",
          "data": {
            "text/html": [
              "<div>\n",
              "<style scoped>\n",
              "    .dataframe tbody tr th:only-of-type {\n",
              "        vertical-align: middle;\n",
              "    }\n",
              "\n",
              "    .dataframe tbody tr th {\n",
              "        vertical-align: top;\n",
              "    }\n",
              "\n",
              "    .dataframe thead th {\n",
              "        text-align: right;\n",
              "    }\n",
              "</style>\n",
              "<table border=\"1\" class=\"dataframe\">\n",
              "  <thead>\n",
              "    <tr style=\"text-align: right;\">\n",
              "      <th></th>\n",
              "      <th>Age</th>\n",
              "      <th>Percentage</th>\n",
              "    </tr>\n",
              "  </thead>\n",
              "  <tbody>\n",
              "    <tr>\n",
              "      <th>0</th>\n",
              "      <td>18 to 44 years</td>\n",
              "      <td>23.5</td>\n",
              "    </tr>\n",
              "    <tr>\n",
              "      <th>1</th>\n",
              "      <td>45 to 54 years</td>\n",
              "      <td>24.4</td>\n",
              "    </tr>\n",
              "    <tr>\n",
              "      <th>2</th>\n",
              "      <td>55 to 64 years</td>\n",
              "      <td>17.3</td>\n",
              "    </tr>\n",
              "    <tr>\n",
              "      <th>3</th>\n",
              "      <td>65 to 74 years</td>\n",
              "      <td>11.0</td>\n",
              "    </tr>\n",
              "    <tr>\n",
              "      <th>4</th>\n",
              "      <td>75 years and older</td>\n",
              "      <td>6.5</td>\n",
              "    </tr>\n",
              "  </tbody>\n",
              "</table>\n",
              "</div>"
            ],
            "text/plain": [
              "                  Age  Percentage\n",
              "0      18 to 44 years        23.5\n",
              "1      45 to 54 years        24.4\n",
              "2      55 to 64 years        17.3\n",
              "3      65 to 74 years        11.0\n",
              "4  75 years and older         6.5"
            ]
          },
          "metadata": {
            "tags": []
          },
          "execution_count": 21
        }
      ]
    },
    {
      "cell_type": "code",
      "metadata": {
        "id": "AiE_U3ylZOER",
        "colab_type": "code",
        "colab": {
          "base_uri": "https://localhost:8080/",
          "height": 351
        },
        "outputId": "77482ef2-9066-4c27-bbb2-28bdccb516df"
      },
      "source": [
        "plt.figure(figsize=(10,5))\n",
        "sns.barplot(x='Age',y='Percentage', data=age, color='green')"
      ],
      "execution_count": 28,
      "outputs": [
        {
          "output_type": "execute_result",
          "data": {
            "text/plain": [
              "<matplotlib.axes._subplots.AxesSubplot at 0x7f2ff2ca0e48>"
            ]
          },
          "metadata": {
            "tags": []
          },
          "execution_count": 28
        },
        {
          "output_type": "display_data",
          "data": {
            "image/png": "[encoded data removed]",
            "text/plain": [
              "<Figure size 720x360 with 1 Axes>"
            ]
          },
          "metadata": {
            "tags": [],
            "needs_background": "light"
          }
        }
      ]
    },
    {
      "cell_type": "code",
      "metadata": {
        "id": "GYAysGdWZgb7",
        "colab_type": "code",
        "colab": {}
      },
      "source": [
        ""
      ],
      "execution_count": 0,
      "outputs": []
    }
  ]
}